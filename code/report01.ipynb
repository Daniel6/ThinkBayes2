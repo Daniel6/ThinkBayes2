{
 "cells": [
  {
   "cell_type": "markdown",
   "metadata": {},
   "source": [
    "License: Attribution 4.0 International (CC BY 4.0) "
   ]
  },
  {
   "cell_type": "markdown",
   "metadata": {},
   "source": [
    "# Report 01"
   ]
  },
  {
   "cell_type": "markdown",
   "metadata": {},
   "source": [
    "Author: Daniel Bishop"
   ]
  },
  {
   "cell_type": "code",
   "execution_count": 2,
   "metadata": {
    "collapsed": false
   },
   "outputs": [],
   "source": [
    "from thinkbayes2 import Pmf"
   ]
  },
  {
   "cell_type": "markdown",
   "metadata": {},
   "source": [
    "## Book Solutions"
   ]
  },
  {
   "cell_type": "markdown",
   "metadata": {
    "collapsed": true
   },
   "source": [
    "Modified cookie bowl problem. Imagine that there are 2 bowls of cookies, each with different ratios of vanilla to chocolate chip cookies in them. After picking some cookies out of one bowl, what is the likelihood that it was one bowl or the other?"
   ]
  },
  {
   "cell_type": "markdown",
   "metadata": {},
   "source": [
    "First we create a Bowl object which contains some number of vanilla and chocolate chip cookies, and the Cookie object, which is our PMF."
   ]
  },
  {
   "cell_type": "code",
   "execution_count": 76,
   "metadata": {
    "collapsed": false
   },
   "outputs": [],
   "source": [
    "class Bowl():\n",
    "    def __init__(self, num_vanilla, num_chocolate):\n",
    "        self.vanilla = num_vanilla\n",
    "        self.chocolate = num_chocolate\n",
    "        \n",
    "    def getPercentTotal(self, hypo):\n",
    "        if (hypo == \"vanilla\"):\n",
    "            mix = self.vanilla / (self.vanilla + self.chocolate)\n",
    "            self.vanilla -= 1\n",
    "        elif (hypo == \"chocolate\"):\n",
    "            mix = self.chocolate / (self.vanilla + self.chocolate)\n",
    "            self.chocolate -= 1\n",
    "        else:\n",
    "            mix = 0\n",
    "        \n",
    "        if (mix < 0):\n",
    "            return 0\n",
    "        else:\n",
    "            return mix\n",
    "\n",
    "class Cookie(Pmf):\n",
    "    def __init__(self, hypos):\n",
    "        Pmf.__init__(self)\n",
    "        for hypo in hypos:\n",
    "            self.Set(hypo, 1)\n",
    "        self.Normalize()\n",
    "        self.mixes = {\n",
    "            'Bowl 1':Bowl(75, 25),\n",
    "            'Bowl 2':Bowl(50, 50),\n",
    "        }\n",
    "    \n",
    "    def Update(self, data):\n",
    "        for hypo in self.Values():\n",
    "            like = self.Likelihood(data, hypo)\n",
    "            self.Mult(hypo, like)\n",
    "        self.Normalize()\n",
    "    \n",
    "    def Likelihood(self, data, hypo):\n",
    "        return self.mixes[hypo].getPercentTotal(data)"
   ]
  },
  {
   "cell_type": "markdown",
   "metadata": {},
   "source": [
    "We can now use our model to predict the likelihood of having been picking from Bowl 1 or 2 based on which cookies we pick."
   ]
  },
  {
   "cell_type": "code",
   "execution_count": 77,
   "metadata": {
    "collapsed": false
   },
   "outputs": [
    {
     "name": "stdout",
     "output_type": "stream",
     "text": [
      "Bowl 1 0.5311004784688996\n",
      "Bowl 2 0.46889952153110054\n"
     ]
    }
   ],
   "source": [
    "pmf = Cookie(['Bowl 1', 'Bowl 2'])\n",
    "dataset = [\"vanilla\", \"chocolate\", \"vanilla\"]\n",
    "for data in dataset:\n",
    "    pmf.Update(data)\n",
    "for hypo, prob in pmf.Items():\n",
    "    print(hypo, prob)"
   ]
  },
  {
   "cell_type": "markdown",
   "metadata": {},
   "source": [
    "Here you can see the effect of not replacing the cookie in the bowl which you took it from. For instance, picking 51 vanilla cookies rules out the possibility of having been using Bowl 2, since it only has 50 cookies in it."
   ]
  },
  {
   "cell_type": "code",
   "execution_count": 78,
   "metadata": {
    "collapsed": false
   },
   "outputs": [
    {
     "name": "stdout",
     "output_type": "stream",
     "text": [
      "Bowl 1 1.0\n",
      "Bowl 2 0.0\n"
     ]
    }
   ],
   "source": [
    "pmf = Cookie(['Bowl 1', 'Bowl 2'])\n",
    "dataset = [\"vanilla\" for x in range(51)]\n",
    "for data in dataset:\n",
    "    pmf.Update(data)\n",
    "for hypo, prob in pmf.Items():\n",
    "    print(hypo, prob)"
   ]
  },
  {
   "cell_type": "markdown",
   "metadata": {},
   "source": [
    "## Mailing List Problems"
   ]
  },
  {
   "cell_type": "markdown",
   "metadata": {
    "collapsed": true
   },
   "source": [
    "In the Zombieland problem, students are given the task of shooting zombies. There are 2 types of students, biased ones and unbiased ones. The biased ones have a 2/3 chance of hitting the zombie when shooting at it, while the unbiased ones only havea 1/2 chance. Given that a student of unknown bias shot twice at a zombie, hitting it once and missing it once, what is the probability that the student is biased?"
   ]
  },
  {
   "cell_type": "markdown",
   "metadata": {},
   "source": [
    "This problem can be set up in a very similar way to the cookie problem discussed above."
   ]
  },
  {
   "cell_type": "code",
   "execution_count": 79,
   "metadata": {
    "collapsed": true
   },
   "outputs": [],
   "source": [
    "class Shooter(Pmf):\n",
    "    def __init__(self, hypos):\n",
    "        Pmf.__init__(self)\n",
    "        for hypo in hypos:\n",
    "            self.Set(hypo, 1)\n",
    "        self.Normalize()\n",
    "        self.mixes = {\n",
    "            'biased':dict(hit=2/3, miss=1/3),\n",
    "            'unbiased':dict(hit=1/2, miss=1/2),\n",
    "        }\n",
    "    \n",
    "    def Update(self, data):\n",
    "        for hypo in self.Values():\n",
    "            like = self.Likelihood(data, hypo)\n",
    "            self.Mult(hypo, like)\n",
    "        self.Normalize()\n",
    "    \n",
    "    def Likelihood(self, data, hypo):\n",
    "        mix = self.mixes[hypo]\n",
    "        like = mix[data]\n",
    "        return like"
   ]
  },
  {
   "cell_type": "code",
   "execution_count": 80,
   "metadata": {
    "collapsed": false
   },
   "outputs": [
    {
     "name": "stdout",
     "output_type": "stream",
     "text": [
      "biased 0.47058823529411764\n",
      "unbiased 0.5294117647058824\n"
     ]
    }
   ],
   "source": [
    "pmf = Shooter(['biased', 'unbiased'])\n",
    "dataset = ['hit', 'miss']\n",
    "for data in dataset:\n",
    "    pmf.Update(data)\n",
    "for hypo, prob in pmf.Items():\n",
    "    print(hypo, prob)"
   ]
  },
  {
   "cell_type": "markdown",
   "metadata": {},
   "source": [
    "Since the data collected matches a 50/50 spread, Bayes theorem helps us predict that there is a 53% chance that the shooter was unbiased. In order to be more sure, we would have to collect more data."
   ]
  },
  {
   "cell_type": "markdown",
   "metadata": {},
   "source": [
    "## Original Problem"
   ]
  },
  {
   "cell_type": "markdown",
   "metadata": {},
   "source": [
    "Most spam emails contain some words that are not commonly found in 'regular' mail. Often, some complex text alanysis is used to determine the spamminess of the email, but I wanted to see how well Bayes theorem could be used to filter mail.\n",
    "\n",
    "Let us assume that there are some set of words or phrases which are more likely to appear in spam emails such as \"free money\", \"$$$\", \"f r e e\", \"save big money\", or \"stock alert\". Each string here is associated with a certain likelihood that the email containing it is a spam email, based on prior analysis by humans or other computers."
   ]
  },
  {
   "cell_type": "code",
   "execution_count": 86,
   "metadata": {
    "collapsed": false
   },
   "outputs": [],
   "source": [
    "spam_keywords = {\n",
    "    \"free money\": .45,\n",
    "    \"$$$\": .75,\n",
    "    \"f r e e\": .81,\n",
    "    \"save big money\": .42,\n",
    "    \"stock alert\": .62\n",
    "}"
   ]
  },
  {
   "cell_type": "code",
   "execution_count": 87,
   "metadata": {
    "collapsed": true
   },
   "outputs": [],
   "source": [
    "class Email(Pmf):\n",
    "    def __init__(self, hypos, spam_words):\n",
    "        Pmf.__init__(self)\n",
    "        for hypo in hypos:\n",
    "            self.Set(hypo, 1)\n",
    "        self.Normalize()\n",
    "        self.spam_keywords = spam_words\n",
    "    \n",
    "    def Update(self, data):\n",
    "        for hypo in self.Values():\n",
    "            like = self.Likelihood(data, hypo)\n",
    "            self.Mult(hypo, like)\n",
    "        self.Normalize()\n",
    "    \n",
    "    def Likelihood(self, data, hypo):\n",
    "        like = self.spam_keywords[data]\n",
    "        if (hypo == \"spam\"):\n",
    "            return like\n",
    "        else:\n",
    "            return 1-like"
   ]
  },
  {
   "cell_type": "markdown",
   "metadata": {},
   "source": [
    "By feeding the Bayes model with a set of keywords and the likelihood that an email containing each word is a spam email, we can then give the model the set of keywords that show up in an email and figure out the probability that said email is spam.\n",
    "\n",
    "For example, an email containing the word '$$$' has a 75% chance of being a spam email since 75% of prior emails that contained the word were spam."
   ]
  },
  {
   "cell_type": "code",
   "execution_count": 89,
   "metadata": {
    "collapsed": false
   },
   "outputs": [
    {
     "name": "stdout",
     "output_type": "stream",
     "text": [
      "not spam 0.25\n",
      "spam 0.75\n"
     ]
    }
   ],
   "source": [
    "pmf = Email(['spam', 'not spam'], spam_keywords)\n",
    "dataset = ['$$$']\n",
    "for data in dataset:\n",
    "    pmf.Update(data)\n",
    "for hypo, prob in pmf.Items():\n",
    "    print(hypo, prob)"
   ]
  },
  {
   "cell_type": "markdown",
   "metadata": {},
   "source": [
    "Once more keywords start appearing in the email, the probability that the email is spam skyrockets."
   ]
  },
  {
   "cell_type": "code",
   "execution_count": 91,
   "metadata": {
    "collapsed": false
   },
   "outputs": [
    {
     "name": "stdout",
     "output_type": "stream",
     "text": [
      "not spam 0.006842547634414177\n",
      "spam 0.993157452365586\n"
     ]
    }
   ],
   "source": [
    "dataset = ['f r e e', 'stock alert']\n",
    "for data in dataset:\n",
    "    pmf.Update(data)\n",
    "for hypo, prob in pmf.Items():\n",
    "    print(hypo, prob)"
   ]
  },
  {
   "cell_type": "markdown",
   "metadata": {},
   "source": [
    "However, there may also be some words which are highly unlikely to show up in a spam email, such as the name of your school. We add these words to the dictionary of spam keywords with a very low likelihood of being a spam email."
   ]
  },
  {
   "cell_type": "code",
   "execution_count": 92,
   "metadata": {
    "collapsed": true
   },
   "outputs": [],
   "source": [
    "spam_keywords[\"olin\"] = .01\n",
    "spam_keywords[\"cute animals\"] = .05\n",
    "spam_keywords[\"grade\"] = .01"
   ]
  },
  {
   "cell_type": "markdown",
   "metadata": {},
   "source": [
    "Thus an email about \"Olin \\$\\$\\$\" is much less likely to be a spam email than one that is just about \"$$$\"."
   ]
  },
  {
   "cell_type": "code",
   "execution_count": 93,
   "metadata": {
    "collapsed": false
   },
   "outputs": [
    {
     "name": "stdout",
     "output_type": "stream",
     "text": [
      "not spam 0.9705882352941176\n",
      "spam 0.02941176470588235\n"
     ]
    }
   ],
   "source": [
    "pmf = Email(['spam', 'not spam'], spam_keywords)\n",
    "dataset = ['olin', '$$$']\n",
    "for data in dataset:\n",
    "    pmf.Update(data)\n",
    "for hypo, prob in pmf.Items():\n",
    "    print(hypo, prob)"
   ]
  }
 ],
 "metadata": {
  "kernelspec": {
   "display_name": "Python 3",
   "language": "python",
   "name": "python3"
  },
  "language_info": {
   "codemirror_mode": {
    "name": "ipython",
    "version": 3
   },
   "file_extension": ".py",
   "mimetype": "text/x-python",
   "name": "python",
   "nbconvert_exporter": "python",
   "pygments_lexer": "ipython3",
   "version": "3.4.3"
  }
 },
 "nbformat": 4,
 "nbformat_minor": 1
}
