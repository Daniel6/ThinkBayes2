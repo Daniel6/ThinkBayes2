{
 "cells": [
  {
   "cell_type": "code",
   "execution_count": 76,
   "metadata": {
    "collapsed": false
   },
   "outputs": [
    {
     "name": "stdout",
     "output_type": "stream",
     "text": [
      "20.0193082687 10.0245980395 2.0231016694\n"
     ]
    }
   ],
   "source": [
    "import numpy as np\n",
    "\n",
    "p1 = .2\n",
    "p2 = .1\n",
    "n = 100\n",
    "\n",
    "n_trials = 10000\n",
    "for i in range(n_trials):\n",
    "    bugs1 = np.random.random(n)\n",
    "    bugs2 = np.random.random(n)\n",
    "\n",
    "    k1 += sum(bugs1 < p1)\n",
    "    k2 += sum(bugs2 < p2)\n",
    "    c += sum((bugs1 < p1) & (bugs2 < p2))\n",
    "    \n",
    "k1 /= n_trials\n",
    "k2 /= n_trials\n",
    "c /= n_trials\n",
    "\n",
    "print(k1, k2, c)"
   ]
  },
  {
   "cell_type": "code",
   "execution_count": 112,
   "metadata": {
    "collapsed": false
   },
   "outputs": [],
   "source": [
    "from thinkbayes2 import Pmf, Cdf, Suite, Joint\n",
    "from scipy.stats import binom\n",
    "\n",
    "class foo(Suite, Joint):\n",
    "    def Likelihood(self, data, hypo):\n",
    "        k1, k2, c = data\n",
    "        n, p1, p2 = hypo\n",
    "        \n",
    "        like1 = binom.pmf(k1, n, p1)\n",
    "        like2 = binom.pmf(k2, n, p2) * binom.pmf(c, n, c/n)\n",
    "        \n",
    "        return like1 * like2"
   ]
  },
  {
   "cell_type": "code",
   "execution_count": 116,
   "metadata": {
    "collapsed": false
   },
   "outputs": [
    {
     "data": {
      "text/plain": [
       "((25.263157894736842, 0.78947368421052633, 0.57894736842105265),\n",
       " 0.027367542148603881)"
      ]
     },
     "execution_count": 116,
     "metadata": {},
     "output_type": "execute_result"
    }
   ],
   "source": [
    "from itertools import permutations, product\n",
    "from operator import itemgetter\n",
    "\n",
    "hypos = list(product(linspace(10, 300, 20), linspace(0, 1, 20), linspace(0, 1, 20)))\n",
    "\n",
    "pmf = foo(hypos)\n",
    "pmf.Update((20, 15, 3))\n",
    "\n",
    "max(pmf.Items(), key=itemgetter(1))"
   ]
  },
  {
   "cell_type": "code",
   "execution_count": null,
   "metadata": {
    "collapsed": true
   },
   "outputs": [],
   "source": []
  },
  {
   "cell_type": "code",
   "execution_count": null,
   "metadata": {
    "collapsed": true
   },
   "outputs": [],
   "source": []
  }
 ],
 "metadata": {
  "kernelspec": {
   "display_name": "Python 3",
   "language": "python",
   "name": "python3"
  },
  "language_info": {
   "codemirror_mode": {
    "name": "ipython",
    "version": 3
   },
   "file_extension": ".py",
   "mimetype": "text/x-python",
   "name": "python",
   "nbconvert_exporter": "python",
   "pygments_lexer": "ipython3",
   "version": "3.4.3"
  }
 },
 "nbformat": 4,
 "nbformat_minor": 1
}
