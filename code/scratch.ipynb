{
 "cells": [
  {
   "cell_type": "code",
   "execution_count": 76,
   "metadata": {
    "collapsed": false
   },
   "outputs": [
    {
     "name": "stdout",
     "output_type": "stream",
     "text": [
      "20.0193082687 10.0245980395 2.0231016694\n"
     ]
    }
   ],
   "source": [
    "import numpy as np\n",
    "\n",
    "p1 = .2\n",
    "p2 = .1\n",
    "n = 100\n",
    "\n",
    "n_trials = 10000\n",
    "for i in range(n_trials):\n",
    "    bugs1 = np.random.random(n)\n",
    "    bugs2 = np.random.random(n)\n",
    "\n",
    "    k1 += sum(bugs1 < p1)\n",
    "    k2 += sum(bugs2 < p2)\n",
    "    c += sum((bugs1 < p1) & (bugs2 < p2))\n",
    "    \n",
    "k1 /= n_trials\n",
    "k2 /= n_trials\n",
    "c /= n_trials\n",
    "\n",
    "print(k1, k2, c)"
   ]
  },
  {
   "cell_type": "code",
   "execution_count": 112,
   "metadata": {
    "collapsed": false
   },
   "outputs": [],
   "source": [
    "from thinkbayes2 import Pmf, Cdf, Suite, Joint\n",
    "from scipy.stats import binom\n",
    "\n",
    "class foo(Suite, Joint):\n",
    "    def Likelihood(self, data, hypo):\n",
    "        k1, k2, c = data\n",
    "        n, p1, p2 = hypo\n",
    "        \n",
    "        like1 = binom.pmf(k1, n, p1)\n",
    "        like2 = binom.pmf(k2, n, p2) * binom.pmf(c, n, c/n)\n",
    "        \n",
    "        return like1 * like2"
   ]
  },
  {
   "cell_type": "code",
   "execution_count": 116,
   "metadata": {
    "collapsed": false
   },
   "outputs": [
    {
     "data": {
      "text/plain": [
       "((25.263157894736842, 0.78947368421052633, 0.57894736842105265),\n",
       " 0.027367542148603881)"
      ]
     },
     "execution_count": 116,
     "metadata": {},
     "output_type": "execute_result"
    }
   ],
   "source": [
    "from itertools import permutations, product\n",
    "from operator import itemgetter\n",
    "\n",
    "hypos = list(product(linspace(10, 300, 20), linspace(0, 1, 20), linspace(0, 1, 20)))\n",
    "\n",
    "pmf = foo(hypos)\n",
    "pmf.Update((20, 15, 3))\n",
    "\n",
    "max(pmf.Items(), key=itemgetter(1))"
   ]
  },
  {
   "cell_type": "code",
   "execution_count": 25,
   "metadata": {
    "collapsed": false
   },
   "outputs": [
    {
     "name": "stdout",
     "output_type": "stream",
     "text": [
      "2.8\n",
      "0.691937432591\n",
      "0.222483749125\n"
     ]
    }
   ],
   "source": [
    "from scipy.stats import poisson\n",
    "\n",
    "p = poisson(2.8)\n",
    "print(p.mean())\n",
    "print(p.cdf(3))\n",
    "print(p.pmf(3))"
   ]
  },
  {
   "cell_type": "code",
   "execution_count": 44,
   "metadata": {
    "collapsed": false
   },
   "outputs": [
    {
     "name": "stdout",
     "output_type": "stream",
     "text": [
      "120.0\n"
     ]
    },
    {
     "data": {
      "text/plain": [
       "120.0"
      ]
     },
     "execution_count": 44,
     "metadata": {},
     "output_type": "execute_result"
    }
   ],
   "source": [
    "from math import factorial\n",
    "print(factorial(10)/(factorial(3)*factorial(7)))\n",
    ".3*(factorial(10)/(factorial(3)*factorial(7))) + .7*(factorial(10)/(factorial(3)*factorial(7)))"
   ]
  },
  {
   "cell_type": "code",
   "execution_count": 60,
   "metadata": {
    "collapsed": false
   },
   "outputs": [
    {
     "name": "stdout",
     "output_type": "stream",
     "text": [
      "woo\n"
     ]
    },
    {
     "data": {
      "image/png": "[encoded data removed]",
      "text/plain": [
       "<matplotlib.figure.Figure at 0x7f5dbe4f1748>"
      ]
     },
     "metadata": {},
     "output_type": "display_data"
    },
    {
     "name": "stdout",
     "output_type": "stream",
     "text": [
      "Counter({3: 471, 4: 461, 5: 332, 2: 311, 6: 186, 1: 122, 7: 73, 0: 28, 8: 12, 9: 3, 10: 1})\n"
     ]
    }
   ],
   "source": [
    "from random import random\n",
    "import matplotlib.pyplot as plt\n",
    "\n",
    "ks = []\n",
    "for i in range(2000):\n",
    "    if (random() < .3):\n",
    "        acc = .3\n",
    "    else:\n",
    "        acc = .4\n",
    "\n",
    "    k = 0\n",
    "    for j in range(10):\n",
    "        if (random() <= acc):\n",
    "            k += 1\n",
    "    ks.append(k)\n",
    "    if (k == 10):\n",
    "        print(\"woo\")\n",
    "    \n",
    "plt.hist(ks, bins=10)\n",
    "plt.show()\n",
    "\n",
    "from collections import Counter\n",
    "c = Counter(ks)\n",
    "print(c)"
   ]
  },
  {
   "cell_type": "code",
   "execution_count": 31,
   "metadata": {
    "collapsed": false
   },
   "outputs": [
    {
     "data": {
      "text/plain": [
       "0.23054197320000014"
      ]
     },
     "execution_count": 31,
     "metadata": {},
     "output_type": "execute_result"
    }
   ],
   "source": [
    "from scipy.stats import binom\n",
    "\n",
    ".3 * binom(10, .3).pmf(3) + .7 * binom(10, .4).pmf(3)"
   ]
  },
  {
   "cell_type": "code",
   "execution_count": 34,
   "metadata": {
    "collapsed": false
   },
   "outputs": [
    {
     "data": {
      "text/plain": [
       "0.25"
      ]
     },
     "execution_count": 34,
     "metadata": {},
     "output_type": "execute_result"
    }
   ],
   "source": [
    "binom(2, .5).pmf(2)"
   ]
  },
  {
   "cell_type": "code",
   "execution_count": 40,
   "metadata": {
    "collapsed": false
   },
   "outputs": [
    {
     "name": "stdout",
     "output_type": "stream",
     "text": [
      "0\n",
      "1\n",
      "2\n",
      "3\n",
      "4\n",
      "5\n",
      "6\n",
      "7\n",
      "8\n",
      "9\n"
     ]
    }
   ],
   "source": [
    "for i in range(10):\n",
    "    print(i)"
   ]
  },
  {
   "cell_type": "code",
   "execution_count": null,
   "metadata": {
    "collapsed": true
   },
   "outputs": [],
   "source": []
  }
 ],
 "metadata": {
  "kernelspec": {
   "display_name": "Python 3",
   "language": "python",
   "name": "python3"
  },
  "language_info": {
   "codemirror_mode": {
    "name": "ipython",
    "version": 3
   },
   "file_extension": ".py",
   "mimetype": "text/x-python",
   "name": "python",
   "nbconvert_exporter": "python",
   "pygments_lexer": "ipython3",
   "version": "3.4.3"
  }
 },
 "nbformat": 4,
 "nbformat_minor": 1
}
