{
 "cells": [
  {
   "cell_type": "markdown",
   "metadata": {},
   "source": [
    "# Report 02\n",
    "### Daniel Bishop\n",
    "\n",
    "License: Attribution 4.0 International (CC BY 4.0) "
   ]
  },
  {
   "cell_type": "code",
   "execution_count": 25,
   "metadata": {
    "collapsed": true
   },
   "outputs": [],
   "source": [
    "from thinkbayes2 import Pmf"
   ]
  },
  {
   "cell_type": "markdown",
   "metadata": {},
   "source": [
    "## The Chess Problem\n",
    "### Copied from Quiz 1\n",
    "\n",
    "> Two identical twins are members of my chess club, but they never show up on the same day; in fact, they strictly alternate the days they show up. I can't tell them apart except that one is a better player than the other: Avery beats me 60% of the time and I beat Blake 70% of the time. If I play one twin on Monday and win, and the other twin on Tuesday and lose, which twin did I play on which day?"
   ]
  },
  {
   "cell_type": "markdown",
   "metadata": {},
   "source": [
    "Since the two twins always alternate their attendance, there are only 2 possible hypotheses for which one showed up on each day.\n",
    "* Avery and then Blake  \n",
    "or\n",
    "* Blake and then Avery"
   ]
  },
  {
   "cell_type": "code",
   "execution_count": 73,
   "metadata": {
    "collapsed": false
   },
   "outputs": [],
   "source": [
    "class Chess(Pmf):\n",
    "    def __init__(self, hypos):\n",
    "        Pmf.__init__(self)\n",
    "        for hypo in hypos:\n",
    "            self.Set(hypo, 1)\n",
    "        self.Normalize()\n",
    "        self.day = False;\n",
    "        \n",
    "    def Update(self, data):\n",
    "        self.day = not self.day; # move to next day\n",
    "        for hypo in self.Values():\n",
    "            like = self.Likelihood(data, hypo)\n",
    "            self.Mult(hypo, like)\n",
    "        self.Normalize()\n",
    "    \n",
    "    '''\n",
    "    the odds of the player winning or losing vs each opponent\n",
    "    '''\n",
    "    player_outcomes = {\n",
    "        'blake': {\n",
    "            'win': .7,\n",
    "            'lose': .3,\n",
    "            'alternate': { # quick hack to let each hypo access the likelihoods of the other\n",
    "                'win': .4,\n",
    "                'lose': .6\n",
    "            }\n",
    "         },\n",
    "        'avery': {\n",
    "            'win': .4,\n",
    "            'lose': .6,\n",
    "            'alternate': {\n",
    "                'win': .7,\n",
    "                'lose': .3\n",
    "            }\n",
    "        }\n",
    "    }\n",
    "    \n",
    "    '''\n",
    "    data an be either 'win' or 'lose',\n",
    "    the likelihood of each outcome changes based on the 'day' where each new piece of data\n",
    "    represents a new day.\n",
    "    \n",
    "    the hypothesis is the opponent that the player faced on Monday, which is the first data\n",
    "    and is also an even day.\n",
    "    '''\n",
    "    def Likelihood(self, data, hypo):\n",
    "        if (self.day):\n",
    "            return self.player_outcomes[hypo][data]\n",
    "        else:\n",
    "            # choose the likelihood of the other opponent because they swap on the odd days\n",
    "            return self.player_outcomes[hypo][\"alternate\"][data]\n",
    "            "
   ]
  },
  {
   "cell_type": "markdown",
   "metadata": {},
   "source": [
    "We can now use our model to predict which player we faced on Monday, and which we faced on Tuesday."
   ]
  },
  {
   "cell_type": "code",
   "execution_count": 74,
   "metadata": {
    "collapsed": false
   },
   "outputs": [
    {
     "name": "stdout",
     "output_type": "stream",
     "text": [
      "avery 0.36363636363636365\n",
      "blake 0.6363636363636364\n"
     ]
    }
   ],
   "source": [
    "pmf = Chess(['blake', 'avery'])\n",
    "dataset = ['win']\n",
    "for data in dataset:\n",
    "    pmf.Update(data)\n",
    "for hypo, prob in pmf.Items():\n",
    "    print(hypo, prob)"
   ]
  },
  {
   "cell_type": "markdown",
   "metadata": {},
   "source": [
    "Here we can see that from the win on Monday, it is likely that we played against Blake, since we are more likely to win versus him."
   ]
  },
  {
   "cell_type": "code",
   "execution_count": 75,
   "metadata": {
    "collapsed": false
   },
   "outputs": [
    {
     "name": "stdout",
     "output_type": "stream",
     "text": [
      "avery 0.22222222222222224\n",
      "blake 0.7777777777777778\n"
     ]
    }
   ],
   "source": [
    "pmf = Chess(['blake', 'avery'])\n",
    "dataset = ['win', 'lose']\n",
    "for data in dataset:\n",
    "    pmf.Update(data)\n",
    "for hypo, prob in pmf.Items():\n",
    "    print(hypo, prob)"
   ]
  },
  {
   "cell_type": "markdown",
   "metadata": {},
   "source": [
    "After losing on Tuesday, we are even more certain that we played against Blake on Monday, since that would mean that we played Avery on Tuesday, and Avery is much more likely to beat us than Blake."
   ]
  },
  {
   "cell_type": "code",
   "execution_count": 76,
   "metadata": {
    "collapsed": false
   },
   "outputs": [
    {
     "name": "stdout",
     "output_type": "stream",
     "text": [
      "avery 0.5\n",
      "blake 0.5000000000000001\n"
     ]
    }
   ],
   "source": [
    "pmf = Chess(['blake', 'avery'])\n",
    "dataset = ['win', 'win']\n",
    "for data in dataset:\n",
    "    pmf.Update(data)\n",
    "for hypo, prob in pmf.Items():\n",
    "    print(hypo, prob)"
   ]
  },
  {
   "cell_type": "markdown",
   "metadata": {},
   "source": [
    "However, if we had instead won on Tuesday, we would once again be unsure of which twin we had played on either day."
   ]
  },
  {
   "cell_type": "markdown",
   "metadata": {},
   "source": [
    "## Kim Rhode"
   ]
  },
  {
   "cell_type": "markdown",
   "metadata": {},
   "source": [
    "From the chapter 4 exercises of Think Bayes:  \n",
    "\n",
    "> At the 2016 Summer Olympics in the Women's Skeet event, Kim Rhode faced Wei Meng in the bronze medal match. They each hit 15 of 25 skeets, sending the match into sudden death. In the first round, both hit 1 of 2 skeets. In the next two rounds, they each hit 2 skeets. Finally, in the fourth round, Rhode hit 2 and Wei hit 1, so Rhode won the bronze medal, making her the first Summer Olympian to win an individual medal at six consecutive summer games.\n",
    "  \n",
    "> But after all that shooting, what is the probability that Rhode is actually a better shooter than Wei? If the same match were held again, what is the probability that Rhode would win?"
   ]
  },
  {
   "cell_type": "markdown",
   "metadata": {},
   "source": [
    "From the single match that we are given information on, it can be extracted that Kim has an overall accuracy of 64.5% and that Wei has an overall accuracy of 61.3%. Using these probabilities, we can predict the likelihood that Kim Rhode would win a rematch."
   ]
  },
  {
   "cell_type": "code",
   "execution_count": 114,
   "metadata": {
    "collapsed": false
   },
   "outputs": [
    {
     "name": "stdout",
     "output_type": "stream",
     "text": [
      "kim wins: 0.59471\n",
      "wei wins: 0.40529\n"
     ]
    }
   ],
   "source": [
    "import random\n",
    "\n",
    "class Match():\n",
    "    def __init__(self):\n",
    "        self.kim_score = 0;\n",
    "        self.wei_score = 0;\n",
    "\n",
    "    '''\n",
    "    simulate standard match with overtime and return name of winner\n",
    "    '''\n",
    "    def run(self):\n",
    "        self.kim_score = 0;\n",
    "        self.wei_score = 0;\n",
    "        \n",
    "        for i in range(25):\n",
    "            if (random.random() <= .645):\n",
    "                self.kim_score += 1\n",
    "            if (random.random() <= .613):\n",
    "                self.wei_score += 1\n",
    "                \n",
    "        if (self.kim_score == self.wei_score):\n",
    "            self.overtime()\n",
    "            \n",
    "        if (self.kim_score > self.wei_score):\n",
    "            return 'kim'\n",
    "        else: \n",
    "            return 'wei'\n",
    "            \n",
    "    def overtime(self):\n",
    "        for i in range(2):\n",
    "            if (random.random() <= .645):\n",
    "                self.kim_score += 1\n",
    "            if (random.random() <= .613):\n",
    "                self.wei_score += 1\n",
    "        \n",
    "        if (self.kim_score == self.wei_score):\n",
    "            self.overtime()\n",
    "        \n",
    "kim_wins = 0;\n",
    "wei_wins = 0;\n",
    "match = Match()\n",
    "num_matches = 100000\n",
    "for i in range(num_matches):\n",
    "    winner = match.run()\n",
    "    if (winner == 'kim'):\n",
    "        kim_wins += 1\n",
    "    else:\n",
    "        wei_wins += 1\n",
    "        \n",
    "print(\"kim wins: \" + str(kim_wins/num_matches))\n",
    "print(\"wei wins: \" + str(wei_wins/num_matches))"
   ]
  },
  {
   "cell_type": "markdown",
   "metadata": {},
   "source": [
    "From repeated simulation, we can estimate that Kim Rhode would win a rematch about 60% of the time, based on both shooters' accuracy during the Olympic match."
   ]
  },
  {
   "cell_type": "markdown",
   "metadata": {},
   "source": [
    "## Original Problem"
   ]
  },
  {
   "cell_type": "markdown",
   "metadata": {},
   "source": [
    "## Extended Socks in the Dark\n",
    "\n",
    "Suppose you have two boxes of socks, one with 20% white socks and the other with 60% white socks. The rest of the socks are black. You always pick from the same box. Each time you pick a sock out of the box, if it is a black sock, you put it back in the second box. If it is a white sock, you put it aside in a safe place. What are the odds that I was picking from Drawer 1 after finding 3 black socks and 2 white socks in that order?"
   ]
  },
  {
   "cell_type": "code",
   "execution_count": 146,
   "metadata": {
    "collapsed": false
   },
   "outputs": [],
   "source": [
    "class Drawer():\n",
    "    def __init__(self, white, black):\n",
    "        self.white = white\n",
    "        self.black = black\n",
    "    \n",
    "    def add(self, color):\n",
    "        if (color == \"white\"):\n",
    "            self.white += 1\n",
    "        elif (color == \"black\"):\n",
    "            self.black += 1\n",
    "            \n",
    "    def pick(self, color):\n",
    "        if (color == \"white\"):\n",
    "            self.white -= 1\n",
    "        elif (color == \"black\"):\n",
    "            self.black -= 1\n",
    "    \n",
    "    def getPercentTotal(self, color):\n",
    "        if (color == \"white\"):\n",
    "            mix = self.white / (self.white + self.black)\n",
    "        elif (color == \"black\"):\n",
    "            mix = self.black / (self.white + self.black)\n",
    "        else:\n",
    "            mix = 0\n",
    "        \n",
    "        if (mix < 0):\n",
    "            return 0\n",
    "        else:\n",
    "            return mix\n",
    "\n",
    "class Drawers(Pmf):\n",
    "    def __init__(self, hypos):\n",
    "        Pmf.__init__(self)\n",
    "        for hypo in hypos:\n",
    "            self.Set(hypo, 1)\n",
    "        self.Normalize()\n",
    "        self.mixes = {\n",
    "            'Drawer 1': Drawer(20, 80),\n",
    "            'Drawer 2': Drawer(60, 40)\n",
    "        }\n",
    "        \n",
    "        \n",
    "    def Update(self, data):\n",
    "        for hypo in self.Values():\n",
    "            like = self.Likelihood(data, hypo)\n",
    "            self.Mult(hypo, like)\n",
    "        self.Normalize()\n",
    "        \n",
    "    def Likelihood(self, data, hypo):\n",
    "        if (data == 'white'):\n",
    "            self.mixes[hypo].pick(data)\n",
    "        elif (data == 'black'):\n",
    "            self.mixes[hypo].pick(data)\n",
    "            self.mixes['Drawer 2'].add(data)\n",
    "                \n",
    "        return self.mixes[hypo].getPercentTotal(data)"
   ]
  },
  {
   "cell_type": "markdown",
   "metadata": {},
   "source": [
    "Now that we have set up the model to accomodate the specific pick and drop method, we can update it with the picking of 3 black socks followed by 2 white socks."
   ]
  },
  {
   "cell_type": "code",
   "execution_count": 147,
   "metadata": {
    "collapsed": false
   },
   "outputs": [
    {
     "name": "stdout",
     "output_type": "stream",
     "text": [
      "Drawer 1 0.44923621876057607\n",
      "Drawer 2 0.5507637812394239\n"
     ]
    }
   ],
   "source": [
    "pmf = Drawers(['Drawer 1', 'Drawer 2'])\n",
    "dataset = ['black', 'black', 'black', 'white', 'white']\n",
    "for data in dataset:\n",
    "    pmf.Update(data)\n",
    "for hypo, prob in pmf.Items():\n",
    "    print(hypo, prob)"
   ]
  },
  {
   "cell_type": "markdown",
   "metadata": {},
   "source": [
    "Thus we know that it is likely that we were drawing from Drawer 2, as it had more white socks and the picking of the black socks had no effect on the number of socks in it."
   ]
  }
 ],
 "metadata": {
  "kernelspec": {
   "display_name": "Python 3",
   "language": "python",
   "name": "python3"
  },
  "language_info": {
   "codemirror_mode": {
    "name": "ipython",
    "version": 3
   },
   "file_extension": ".py",
   "mimetype": "text/x-python",
   "name": "python",
   "nbconvert_exporter": "python",
   "pygments_lexer": "ipython3",
   "version": "3.4.3"
  }
 },
 "nbformat": 4,
 "nbformat_minor": 1
}
