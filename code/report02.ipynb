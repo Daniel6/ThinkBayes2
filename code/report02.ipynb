{
 "cells": [
  {
   "cell_type": "markdown",
   "metadata": {},
   "source": [
    "# Report 02\n",
    "### Daniel Bishop\n",
    "\n",
    "License: Attribution 4.0 International (CC BY 4.0) "
   ]
  },
  {
   "cell_type": "code",
   "execution_count": 1,
   "metadata": {
    "collapsed": true
   },
   "outputs": [],
   "source": [
    "from thinkbayes2 import Pmf"
   ]
  },
  {
   "cell_type": "markdown",
   "metadata": {},
   "source": [
    "## The Chess Problem\n",
    "### Copied from Quiz 1\n",
    "\n",
    "> Two identical twins are members of my chess club, but they never show up on the same day; in fact, they strictly alternate the days they show up. I can't tell them apart except that one is a better player than the other: Avery beats me 60% of the time and I beat Blake 70% of the time. If I play one twin on Monday and win, and the other twin on Tuesday and lose, which twin did I play on which day?"
   ]
  },
  {
   "cell_type": "markdown",
   "metadata": {},
   "source": [
    "Since the two twins always alternate their attendance, there are only 2 possible hypotheses for which one showed up on each day.\n",
    "* Avery and then Blake  \n",
    "or\n",
    "* Blake and then Avery"
   ]
  },
  {
   "cell_type": "code",
   "execution_count": 2,
   "metadata": {
    "collapsed": false
   },
   "outputs": [],
   "source": [
    "class Chess(Pmf):\n",
    "    def __init__(self, hypos):\n",
    "        Pmf.__init__(self)\n",
    "        for hypo in hypos:\n",
    "            self.Set(hypo, 1)\n",
    "        self.Normalize()\n",
    "        self.day = False;\n",
    "        \n",
    "    def Update(self, data):\n",
    "        self.day = not self.day; # move to next day\n",
    "        for hypo in self.Values():\n",
    "            like = self.Likelihood(data, hypo)\n",
    "            self.Mult(hypo, like)\n",
    "        self.Normalize()\n",
    "    \n",
    "    '''\n",
    "    the odds of the player winning or losing vs each opponent\n",
    "    '''\n",
    "    player_outcomes = {\n",
    "        'blake': {\n",
    "            'win': .7,\n",
    "            'lose': .3,\n",
    "            'alternate': { # quick hack to let each hypo access the likelihoods of the other\n",
    "                'win': .4,\n",
    "                'lose': .6\n",
    "            }\n",
    "         },\n",
    "        'avery': {\n",
    "            'win': .4,\n",
    "            'lose': .6,\n",
    "            'alternate': {\n",
    "                'win': .7,\n",
    "                'lose': .3\n",
    "            }\n",
    "        }\n",
    "    }\n",
    "    \n",
    "    '''\n",
    "    data an be either 'win' or 'lose',\n",
    "    the likelihood of each outcome changes based on the 'day' where each new piece of data\n",
    "    represents a new day.\n",
    "    \n",
    "    the hypothesis is the opponent that the player faced on Monday, which is the first data\n",
    "    and is also an even day.\n",
    "    '''\n",
    "    def Likelihood(self, data, hypo):\n",
    "        if (self.day):\n",
    "            return self.player_outcomes[hypo][data]\n",
    "        else:\n",
    "            # choose the likelihood of the other opponent because they swap on the odd days\n",
    "            return self.player_outcomes[hypo][\"alternate\"][data]\n",
    "            "
   ]
  },
  {
   "cell_type": "markdown",
   "metadata": {},
   "source": [
    "We can now use our model to predict which player we faced on Monday, and which we faced on Tuesday."
   ]
  },
  {
   "cell_type": "code",
   "execution_count": 3,
   "metadata": {
    "collapsed": false
   },
   "outputs": [
    {
     "name": "stdout",
     "output_type": "stream",
     "text": [
      "blake 0.6363636363636364\n",
      "avery 0.36363636363636365\n"
     ]
    }
   ],
   "source": [
    "pmf = Chess(['blake', 'avery'])\n",
    "dataset = ['win']\n",
    "for data in dataset:\n",
    "    pmf.Update(data)\n",
    "for hypo, prob in pmf.Items():\n",
    "    print(hypo, prob)"
   ]
  },
  {
   "cell_type": "markdown",
   "metadata": {},
   "source": [
    "Here we can see that from the win on Monday, it is likely that we played against Blake, since we are more likely to win versus him."
   ]
  },
  {
   "cell_type": "code",
   "execution_count": 4,
   "metadata": {
    "collapsed": false
   },
   "outputs": [
    {
     "name": "stdout",
     "output_type": "stream",
     "text": [
      "blake 0.7777777777777778\n",
      "avery 0.22222222222222224\n"
     ]
    }
   ],
   "source": [
    "pmf = Chess(['blake', 'avery'])\n",
    "dataset = ['win', 'lose']\n",
    "for data in dataset:\n",
    "    pmf.Update(data)\n",
    "for hypo, prob in pmf.Items():\n",
    "    print(hypo, prob)"
   ]
  },
  {
   "cell_type": "markdown",
   "metadata": {},
   "source": [
    "After losing on Tuesday, we are even more certain that we played against Blake on Monday, since that would mean that we played Avery on Tuesday, and Avery is much more likely to beat us than Blake."
   ]
  },
  {
   "cell_type": "code",
   "execution_count": 5,
   "metadata": {
    "collapsed": false
   },
   "outputs": [
    {
     "name": "stdout",
     "output_type": "stream",
     "text": [
      "blake 0.5000000000000001\n",
      "avery 0.5\n"
     ]
    }
   ],
   "source": [
    "pmf = Chess(['blake', 'avery'])\n",
    "dataset = ['win', 'win']\n",
    "for data in dataset:\n",
    "    pmf.Update(data)\n",
    "for hypo, prob in pmf.Items():\n",
    "    print(hypo, prob)"
   ]
  },
  {
   "cell_type": "markdown",
   "metadata": {},
   "source": [
    "However, if we had instead won on Tuesday, we would once again be unsure of which twin we had played on either day."
   ]
  },
  {
   "cell_type": "markdown",
   "metadata": {},
   "source": [
    "## Kim Rhode"
   ]
  },
  {
   "cell_type": "markdown",
   "metadata": {},
   "source": [
    "From the chapter 4 exercises of Think Bayes:  \n",
    "\n",
    "> At the 2016 Summer Olympics in the Women's Skeet event, Kim Rhode faced Wei Meng in the bronze medal match. They each hit 15 of 25 skeets, sending the match into sudden death. In the first round, both hit 1 of 2 skeets. In the next two rounds, they each hit 2 skeets. Finally, in the fourth round, Rhode hit 2 and Wei hit 1, so Rhode won the bronze medal, making her the first Summer Olympian to win an individual medal at six consecutive summer games.\n",
    "  \n",
    "> But after all that shooting, what is the probability that Rhode is actually a better shooter than Wei? If the same match were held again, what is the probability that Rhode would win?"
   ]
  },
  {
   "cell_type": "markdown",
   "metadata": {},
   "source": [
    "From the single match that we are given information on, it can be extracted that Kim has an overall accuracy of 64.5% and that Wei has an overall accuracy of 61.3%. Using these probabilities, we can predict the likelihood that Kim Rhode would win a rematch."
   ]
  },
  {
   "cell_type": "code",
   "execution_count": 6,
   "metadata": {
    "collapsed": false
   },
   "outputs": [
    {
     "name": "stdout",
     "output_type": "stream",
     "text": [
      "kim wins: 0.59521\n",
      "wei wins: 0.40479\n"
     ]
    }
   ],
   "source": [
    "import random\n",
    "\n",
    "class Match():\n",
    "    def __init__(self):\n",
    "        self.kim_score = 0;\n",
    "        self.wei_score = 0;\n",
    "\n",
    "    '''\n",
    "    simulate standard match with overtime and return name of winner\n",
    "    '''\n",
    "    def run(self):\n",
    "        self.kim_score = 0;\n",
    "        self.wei_score = 0;\n",
    "        \n",
    "        for i in range(25):\n",
    "            if (random.random() <= .645):\n",
    "                self.kim_score += 1\n",
    "            if (random.random() <= .613):\n",
    "                self.wei_score += 1\n",
    "                \n",
    "        if (self.kim_score == self.wei_score):\n",
    "            self.overtime()\n",
    "            \n",
    "        if (self.kim_score > self.wei_score):\n",
    "            return 'kim'\n",
    "        else: \n",
    "            return 'wei'\n",
    "            \n",
    "    def overtime(self):\n",
    "        for i in range(2):\n",
    "            if (random.random() <= .645):\n",
    "                self.kim_score += 1\n",
    "            if (random.random() <= .613):\n",
    "                self.wei_score += 1\n",
    "        \n",
    "        if (self.kim_score == self.wei_score):\n",
    "            self.overtime()\n",
    "        \n",
    "kim_wins = 0;\n",
    "wei_wins = 0;\n",
    "match = Match()\n",
    "num_matches = 100000\n",
    "for i in range(num_matches):\n",
    "    winner = match.run()\n",
    "    if (winner == 'kim'):\n",
    "        kim_wins += 1\n",
    "    else:\n",
    "        wei_wins += 1\n",
    "        \n",
    "print(\"kim wins: \" + str(kim_wins/num_matches))\n",
    "print(\"wei wins: \" + str(wei_wins/num_matches))"
   ]
  },
  {
   "cell_type": "markdown",
   "metadata": {},
   "source": [
    "From repeated simulation, we can estimate that Kim Rhode would win a rematch about 60% of the time, based on both shooters' accuracy during the Olympic match."
   ]
  },
  {
   "cell_type": "markdown",
   "metadata": {},
   "source": [
    "## Original Problem"
   ]
  },
  {
   "cell_type": "markdown",
   "metadata": {},
   "source": [
    "## What's for Lunch\n",
    "\n",
    "Suppose your parents take turns making you lunch for school. Your mom packs you a pb&j for lunch 50% of the time, and other food 50% of the time. Your dad only packs you a pb&j 14% of the time though. How can you figure out your parents' schedule for making your lunch?"
   ]
  },
  {
   "cell_type": "code",
   "execution_count": 9,
   "metadata": {
    "collapsed": false
   },
   "outputs": [],
   "source": [
    "class Schedule(Pmf):\n",
    "    def __init__(self, hypos):\n",
    "        Pmf.__init__(self)\n",
    "        for hypo in hypos:\n",
    "            self.Set(hypo, 1)\n",
    "        self.Normalize()\n",
    "        self.day = 0;\n",
    "        \n",
    "    def Update(self, data):\n",
    "        for hypo in self.Values():\n",
    "            like = self.Likelihood(data, hypo)\n",
    "            self.Mult(hypo, like)\n",
    "        self.Normalize()\n",
    "        self.day += 1\n",
    "        if (self.day >= 5):\n",
    "            self.day = 0\n",
    "        \n",
    "    def Likelihood(self, data, hypo):\n",
    "        if (hypo[self.day] == 'M'):\n",
    "            prob_pb = .5\n",
    "        else:\n",
    "            prob_pb = .14\n",
    "            \n",
    "        if (data == 'pb&j'):\n",
    "            return prob_pb\n",
    "        else:\n",
    "            return 1 - prob_pb"
   ]
  },
  {
   "cell_type": "markdown",
   "metadata": {},
   "source": [
    "Now that we have set up the model to accomodate the specific pick and drop method, we can update it with the picking of 3 black socks followed by 2 white socks."
   ]
  },
  {
   "cell_type": "code",
   "execution_count": 10,
   "metadata": {
    "collapsed": false
   },
   "outputs": [
    {
     "name": "stdout",
     "output_type": "stream",
     "text": [
      "('D', 'D', 'D', 'D', 'D') 0.004185653475329125\n",
      "('D', 'D', 'D', 'D', 'M') 0.014948762411889733\n",
      "('D', 'D', 'D', 'M', 'D') 0.014948762411889737\n",
      "('D', 'D', 'D', 'M', 'M') 0.05338843718532048\n",
      "('D', 'D', 'M', 'D', 'D') 0.0024335194624006545\n",
      "('D', 'D', 'M', 'D', 'M') 0.008691140937145193\n",
      "('D', 'D', 'M', 'M', 'D') 0.008691140937145193\n",
      "('D', 'D', 'M', 'M', 'M') 0.03103978906123283\n",
      "('D', 'M', 'D', 'D', 'D') 0.0024335194624006545\n",
      "('D', 'M', 'D', 'D', 'M') 0.008691140937145193\n",
      "('D', 'M', 'D', 'M', 'D') 0.008691140937145193\n",
      "('D', 'M', 'D', 'M', 'M') 0.03103978906123283\n",
      "('D', 'M', 'M', 'D', 'D') 0.0014148368967445669\n",
      "('D', 'M', 'M', 'D', 'M') 0.005052988916944881\n",
      "('D', 'M', 'M', 'M', 'D') 0.005052988916944881\n",
      "('D', 'M', 'M', 'M', 'M') 0.01804638898908886\n",
      "('M', 'D', 'D', 'D', 'D') 0.014948762411889737\n",
      "('M', 'D', 'D', 'D', 'M') 0.05338843718532048\n",
      "('M', 'D', 'D', 'M', 'D') 0.05338843718532048\n",
      "('M', 'D', 'D', 'M', 'M') 0.1906729899475731\n",
      "('M', 'D', 'M', 'D', 'D') 0.008691140937145193\n",
      "('M', 'D', 'M', 'D', 'M') 0.03103978906123283\n",
      "('M', 'D', 'M', 'M', 'D') 0.03103978906123283\n",
      "('M', 'D', 'M', 'M', 'M') 0.11085638950440296\n",
      "('M', 'M', 'D', 'D', 'D') 0.008691140937145193\n",
      "('M', 'M', 'D', 'D', 'M') 0.03103978906123283\n",
      "('M', 'M', 'D', 'M', 'D') 0.03103978906123283\n",
      "('M', 'M', 'D', 'M', 'M') 0.11085638950440296\n",
      "('M', 'M', 'M', 'D', 'D') 0.005052988916944881\n",
      "('M', 'M', 'M', 'D', 'M') 0.01804638898908886\n",
      "('M', 'M', 'M', 'M', 'D') 0.018046388989088856\n",
      "('M', 'M', 'M', 'M', 'M') 0.06445138924674591\n"
     ]
    }
   ],
   "source": [
    "import itertools\n",
    "\n",
    "pmf = Schedule([i for i in itertools.product(['M', 'D'], ['M', 'D'], ['M', 'D'], ['M', 'D'], ['M', 'D'])])\n",
    "dataset = [\"pb&j\", \"other\", \"other\", \"pb&j\", \"pb&j\"]\n",
    "for data in dataset:\n",
    "    pmf.Update(data)\n",
    "    \n",
    "pmf.Print()"
   ]
  },
  {
   "cell_type": "markdown",
   "metadata": {},
   "source": [
    "Based on the week's worth of data, it seems like the most likely schedule is:\n",
    "* Monday: Mom\n",
    "* Tuesday: Dad\n",
    "* Wednesday: Dad\n",
    "* Thursday: Mom\n",
    "* Friday: Mom\n",
    "\n",
    "Let's see what happens after feeding another week's worth of data into the model."
   ]
  },
  {
   "cell_type": "code",
   "execution_count": 12,
   "metadata": {
    "collapsed": false
   },
   "outputs": [
    {
     "name": "stdout",
     "output_type": "stream",
     "text": [
      "('D', 'D', 'D', 'D', 'D') 0.0018661215411995263\n",
      "('D', 'D', 'D', 'D', 'M') 0.023802570678565383\n",
      "('D', 'D', 'D', 'M', 'D') 0.0038748370872083186\n",
      "('D', 'D', 'D', 'M', 'M') 0.0494239424388816\n",
      "('D', 'D', 'M', 'D', 'D') 0.0006307874328013542\n",
      "('D', 'D', 'M', 'D', 'M') 0.008045758071445844\n",
      "('D', 'D', 'M', 'M', 'D') 0.0013097745697702539\n",
      "('D', 'D', 'M', 'M', 'M') 0.01670630828788588\n",
      "('D', 'M', 'D', 'D', 'D') 0.003874837087208319\n",
      "('D', 'M', 'D', 'D', 'M') 0.049423942438881596\n",
      "('D', 'M', 'D', 'M', 'D') 0.00804575807144584\n",
      "('D', 'M', 'D', 'M', 'M') 0.10262446519701325\n",
      "('D', 'M', 'M', 'D', 'D') 0.001309774569770254\n",
      "('D', 'M', 'M', 'D', 'M') 0.016706308287885885\n",
      "('D', 'M', 'M', 'M', 'D') 0.0027196315817488654\n",
      "('D', 'M', 'M', 'M', 'M') 0.03468917833863348\n",
      "('M', 'D', 'D', 'D', 'D') 0.003874837087208319\n",
      "('M', 'D', 'D', 'D', 'M') 0.0494239424388816\n",
      "('M', 'D', 'D', 'M', 'D') 0.008045758071445842\n",
      "('M', 'D', 'D', 'M', 'M') 0.10262446519701325\n",
      "('M', 'D', 'M', 'D', 'D') 0.0013097745697702532\n",
      "('M', 'D', 'M', 'D', 'M') 0.016706308287885885\n",
      "('M', 'D', 'M', 'M', 'D') 0.0027196315817488654\n",
      "('M', 'D', 'M', 'M', 'M') 0.03468917833863348\n",
      "('M', 'M', 'D', 'D', 'D') 0.008045758071445842\n",
      "('M', 'M', 'D', 'D', 'M') 0.10262446519701328\n",
      "('M', 'M', 'D', 'M', 'D') 0.016706308287885885\n",
      "('M', 'M', 'D', 'M', 'M') 0.21309066693731993\n",
      "('M', 'M', 'M', 'D', 'D') 0.002719631581748866\n",
      "('M', 'M', 'M', 'D', 'M') 0.03468917833863348\n",
      "('M', 'M', 'M', 'M', 'D') 0.005647075543498474\n",
      "('M', 'M', 'M', 'M', 'M') 0.07202902478952133\n"
     ]
    }
   ],
   "source": [
    "dataset = [\"other\", \"pb&j\", \"other\", \"other\", \"pb&j\"]\n",
    "for data in dataset:\n",
    "    pmf.Update(data)\n",
    "    \n",
    "pmf.Print()"
   ]
  },
  {
   "cell_type": "markdown",
   "metadata": {},
   "source": [
    "With this new data, the new most likely schedule is:\n",
    "* Monday: Mom\n",
    "* Tuesday: Mom\n",
    "* Wednesday: Dad\n",
    "* Thursday: Mom\n",
    "* Friday: Mom\n",
    "\n",
    "As more data arrives, the model will become more accurate, letting you guess which parent will be making your lunch, as long as they keep the same schedule between weeks."
   ]
  }
 ],
 "metadata": {
  "kernelspec": {
   "display_name": "Python 3",
   "language": "python",
   "name": "python3"
  },
  "language_info": {
   "codemirror_mode": {
    "name": "ipython",
    "version": 3
   },
   "file_extension": ".py",
   "mimetype": "text/x-python",
   "name": "python",
   "nbconvert_exporter": "python",
   "pygments_lexer": "ipython3",
   "version": "3.4.3"
  }
 },
 "nbformat": 4,
 "nbformat_minor": 1
}
